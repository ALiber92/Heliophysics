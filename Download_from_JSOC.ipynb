{
 "cells": [
  {
   "cell_type": "markdown",
   "id": "aed6cfd3",
   "metadata": {},
   "source": [
    "# Download data from the Joint Science Operations Center (JSOC)\n",
    "\n",
    "By:\n",
    "\n",
    "   - Alessandro Liberatore (alessandro.liberatore@jpl.nasa.gov)"
   ]
  },
  {
   "cell_type": "markdown",
   "id": "b3d36f52",
   "metadata": {},
   "source": [
    "The list of data and other infos about aviable data can be found at: http://jsoc.stanford.edu/ "
   ]
  },
  {
   "cell_type": "markdown",
   "id": "8bd41da8",
   "metadata": {},
   "source": [
    "Import the following libraries:"
   ]
  },
  {
   "cell_type": "code",
   "execution_count": 1,
   "id": "708b5539",
   "metadata": {},
   "outputs": [],
   "source": [
    "from sunpy.net import Fido, attrs as a\n",
    "import astropy.units as u\n",
    "from sunpy.net import jsoc"
   ]
  },
  {
   "cell_type": "markdown",
   "id": "0a860a54",
   "metadata": {},
   "source": [
    "After that, select your time range, instrument, detector, wavelenght, etc... (the complete list of instruments and commands can be found at the following links: [link1](https://docs.sunpy.org/en/stable/guide/acquiring_data/jsoc.html), [link2](https://docs.sunpy.org/en/stable/code_ref/net.html)):"
   ]
  },
  {
   "cell_type": "markdown",
   "id": "b8035039",
   "metadata": {},
   "source": [
    "Finally, select the path and download the data:"
   ]
  },
  {
   "cell_type": "code",
   "execution_count": 2,
   "id": "4b5ddb94",
   "metadata": {},
   "outputs": [
    {
     "name": "stdout",
     "output_type": "stream",
     "text": [
      "Results from 1 Provider:\n",
      "\n",
      "10 Results from the VSOClient:\n",
      "Source: http://vso.stanford.edu/cgi-bin/search\n",
      "Total estimated size: 677.888 Mbyte\n",
      "\n",
      "       Start Time       ...\n",
      "                        ...\n",
      "----------------------- ...\n",
      "2022-03-25 07:02:09.000 ...\n",
      "2022-03-25 07:02:21.000 ...\n",
      "2022-03-25 07:02:33.000 ...\n",
      "2022-03-25 07:02:45.000 ...\n",
      "2022-03-25 07:02:57.000 ...\n",
      "2022-03-25 07:03:09.000 ...\n",
      "2022-03-25 07:03:21.000 ...\n",
      "2022-03-25 07:03:33.000 ...\n",
      "2022-03-25 07:03:45.000 ...\n",
      "2022-03-25 07:03:57.000 ...\n",
      "\n",
      "\n"
     ]
    }
   ],
   "source": [
    "result = Fido.search(a.Time(\"2022-03-25T07:02:00\", \"2022-03-25T07:04:00\"), \n",
    "                     a.Instrument(\"AIA\"), \n",
    "                     a.Wavelength(171*u.angstrom))\n",
    "print(result)"
   ]
  },
  {
   "cell_type": "code",
   "execution_count": 3,
   "id": "425ed091",
   "metadata": {
    "scrolled": true
   },
   "outputs": [
    {
     "data": {
      "application/vnd.jupyter.widget-view+json": {
       "model_id": "5892916e5f1049528db3f697cac0811f",
       "version_major": 2,
       "version_minor": 0
      },
      "text/plain": [
       "Files Downloaded:   0%|          | 0/10 [00:00<?, ?file/s]"
      ]
     },
     "metadata": {},
     "output_type": "display_data"
    }
   ],
   "source": [
    "files = Fido.fetch(result, path=\"/Users/liberato/Desktop/AIA171/{file}\")"
   ]
  },
  {
   "cell_type": "markdown",
   "id": "096483d5",
   "metadata": {},
   "source": [
    "# How to receive by mail the list of data"
   ]
  },
  {
   "cell_type": "markdown",
   "id": "666084a2",
   "metadata": {},
   "source": [
    "First of all, you have to register your mail to the Joint Science Operations Center (JSOC):<br> http://jsoc.stanford.edu/ajax/register_email.html"
   ]
  },
  {
   "cell_type": "markdown",
   "id": "aa9599c2",
   "metadata": {},
   "source": [
    "Then, import the following libreries:"
   ]
  },
  {
   "cell_type": "code",
   "execution_count": 4,
   "id": "cca33961",
   "metadata": {},
   "outputs": [],
   "source": [
    "import astropy.units as u\n",
    "from sunpy.net import jsoc\n",
    "from sunpy.net import attrs as a"
   ]
  },
  {
   "cell_type": "markdown",
   "id": "18d3b1a3",
   "metadata": {},
   "source": [
    "Select the time range, the data you are interested in, and your mail:"
   ]
  },
  {
   "cell_type": "code",
   "execution_count": 5,
   "id": "91d64375",
   "metadata": {},
   "outputs": [
    {
     "name": "stdout",
     "output_type": "stream",
     "text": [
      "       T_REC         TELESCOP INSTRUME WAVELNTH CAR_ROT\n",
      "-------------------- -------- -------- -------- -------\n",
      "2012-03-04T00:00:02Z  SDO/AIA    AIA_4      304    2120\n",
      "2012-03-04T00:00:14Z  SDO/AIA    AIA_4      304    2120\n",
      "2012-03-04T00:00:26Z  SDO/AIA    AIA_4      304    2120\n",
      "2012-03-04T00:00:38Z  SDO/AIA    AIA_4      304    2120\n",
      "2012-03-04T00:00:50Z  SDO/AIA    AIA_4      304    2120\n",
      "2012-03-04T00:01:02Z  SDO/AIA    AIA_4      304    2120\n",
      "2012-03-04T00:01:14Z  SDO/AIA    AIA_4      304    2120\n",
      "                 ...      ...      ...      ...     ...\n",
      "2012-03-04T00:08:50Z  SDO/AIA    AIA_4      304    2120\n",
      "2012-03-04T00:09:02Z  SDO/AIA    AIA_4      304    2120\n",
      "2012-03-04T00:09:14Z  SDO/AIA    AIA_4      304    2120\n",
      "2012-03-04T00:09:26Z  SDO/AIA    AIA_4      304    2120\n",
      "2012-03-04T00:09:38Z  SDO/AIA    AIA_4      304    2120\n",
      "2012-03-04T00:09:50Z  SDO/AIA    AIA_4      304    2120\n",
      "2012-03-04T00:10:02Z  SDO/AIA    AIA_4      304    2120\n",
      "Length = 51 rows\n"
     ]
    }
   ],
   "source": [
    "client = jsoc.JSOCClient()  \n",
    "request = client.search(a.Time('2012-03-04T00:00:00', '2012-03-04T00:10:00'),\n",
    "                       a.jsoc.Series('aia.lev1_euv_12s'), \n",
    "                       a.Wavelength(304*u.AA),\n",
    "                       a.jsoc.Segment('image'), \n",
    "                       a.jsoc.Notify('alessandro.liberatore@jpl.nasa.gov'))  \n",
    "print(request)  # analogous: print(\"ID: {0}, Status: {1}\".format(requests.id, requests.status))"
   ]
  },
  {
   "cell_type": "markdown",
   "id": "f80d6edd",
   "metadata": {},
   "source": [
    "Then, you should receive (in a few) a mail from JSOC with all the details of your request and a link to the images. Clickin on the link, you should be redirected to a page similar to the following one:"
   ]
  },
  {
   "cell_type": "markdown",
   "id": "72e295a0",
   "metadata": {},
   "source": [
    "<div>\n",
    "<img src=\"./images/JSOC_linkmail_example.png\" width=\"500\" align=\"left\"/>\n",
    "</div>"
   ]
  }
 ],
 "metadata": {
  "kernelspec": {
   "display_name": "Python 3 (ipykernel)",
   "language": "python",
   "name": "python3"
  },
  "language_info": {
   "codemirror_mode": {
    "name": "ipython",
    "version": 3
   },
   "file_extension": ".py",
   "mimetype": "text/x-python",
   "name": "python",
   "nbconvert_exporter": "python",
   "pygments_lexer": "ipython3",
   "version": "3.9.12"
  }
 },
 "nbformat": 4,
 "nbformat_minor": 5
}
