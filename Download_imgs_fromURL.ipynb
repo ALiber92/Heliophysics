{
 "cells": [
  {
   "cell_type": "markdown",
   "id": "64b9872d",
   "metadata": {},
   "source": [
    "# Download images from online repositories"
   ]
  },
  {
   "cell_type": "markdown",
   "id": "02d6f2fc",
   "metadata": {},
   "source": [
    "Install **bs4** and **requests** packages on your local machine and import them:"
   ]
  },
  {
   "cell_type": "code",
   "execution_count": 1,
   "id": "327bbc87",
   "metadata": {},
   "outputs": [
    {
     "name": "stdout",
     "output_type": "stream",
     "text": [
      "Requirement already satisfied: bs4 in /Users/liberato/opt/anaconda3/lib/python3.9/site-packages (0.0.1)\n",
      "Requirement already satisfied: beautifulsoup4 in /Users/liberato/opt/anaconda3/lib/python3.9/site-packages (from bs4) (4.11.1)\n",
      "Requirement already satisfied: soupsieve>1.2 in /Users/liberato/opt/anaconda3/lib/python3.9/site-packages (from beautifulsoup4->bs4) (2.3.1)\n",
      "Note: you may need to restart the kernel to use updated packages.\n",
      "Requirement already satisfied: requests in /Users/liberato/opt/anaconda3/lib/python3.9/site-packages (2.28.1)\n",
      "Requirement already satisfied: certifi>=2017.4.17 in /Users/liberato/opt/anaconda3/lib/python3.9/site-packages (from requests) (2021.10.8)\n",
      "Requirement already satisfied: idna<4,>=2.5 in /Users/liberato/opt/anaconda3/lib/python3.9/site-packages (from requests) (3.3)\n",
      "Requirement already satisfied: urllib3<1.27,>=1.21.1 in /Users/liberato/opt/anaconda3/lib/python3.9/site-packages (from requests) (1.26.9)\n",
      "Requirement already satisfied: charset-normalizer<3,>=2 in /Users/liberato/opt/anaconda3/lib/python3.9/site-packages (from requests) (2.0.4)\n",
      "Note: you may need to restart the kernel to use updated packages.\n"
     ]
    }
   ],
   "source": [
    "%pip install --upgrade bs4\n",
    "%pip install --upgrade requests"
   ]
  },
  {
   "cell_type": "code",
   "execution_count": 2,
   "id": "11e3e038",
   "metadata": {},
   "outputs": [],
   "source": [
    "from bs4 import BeautifulSoup, SoupStrainer\n",
    "import requests"
   ]
  },
  {
   "cell_type": "markdown",
   "id": "8ccdfc4c",
   "metadata": {},
   "source": [
    "Insert the URL (e.g., url = \"http://sd-www.jhuapl.edu/secchi/wavelets/pngs/202203/25/304_A/\"):"
   ]
  },
  {
   "cell_type": "code",
   "execution_count": 3,
   "id": "5a71842d",
   "metadata": {},
   "outputs": [],
   "source": [
    "url = \"http://sd-www.jhuapl.edu/secchi/wavelets/pngs/202203/25/304_A/\"\n",
    "\n",
    "page = requests.get(url)    \n",
    "data = page.text\n",
    "soup = BeautifulSoup(data)"
   ]
  },
  {
   "cell_type": "markdown",
   "id": "320d64bd",
   "metadata": {},
   "source": [
    "Insert the range of images you are interested in (e.g., from row 5 [img_in = 5] to row 100 [img_end = 100]). Then, select where you want to save the downloaded images (e.g., path = \"/Users/liberato/Desktop/304folder/\"):"
   ]
  },
  {
   "cell_type": "code",
   "execution_count": 18,
   "id": "ba713b4a",
   "metadata": {},
   "outputs": [
    {
     "name": "stdout",
     "output_type": "stream",
     "text": [
      "Number of rows: 237\n",
      "\n",
      "0 | <a href=\"?C=N;O=D\">Name</a>\n",
      "1 | <a href=\"?C=M;O=A\">Last modified</a>\n",
      "2 | <a href=\"?C=S;O=A\">Size</a>\n",
      "3 | <a href=\"?C=D;O=A\">Description</a>\n",
      "4 | <a href=\"/secchi/wavelets/pngs/202203/25/\">Parent Directory</a>\n",
      "5 | <a href=\"20220325_000545_304eu_R.png\">20220325_000545_304eu_R.png</a>\n",
      "6 | <a href=\"20220325_001430_304eu_R.png\">20220325_001430_304eu_R.png</a>\n",
      "7 | <a href=\"20220325_001545_304eu_R.png\">20220325_001545_304eu_R.png</a>\n",
      "8 | <a href=\"20220325_002545_304eu_R.png\">20220325_002545_304eu_R.png</a>\n",
      "9 | <a href=\"20220325_003545_304eu_R.png\">20220325_003545_304eu_R.png</a>\n",
      "...\n",
      "236 | <a href=\"20220325_235815_304eu_R.png\">20220325_235815_304eu_R.png</a>\n"
     ]
    }
   ],
   "source": [
    "tot_lines = len(soup.find_all('a'))           # number of detected rows in url\n",
    "print(\"Number of rows: {0}\\n\".format(tot_lines))\n",
    "for link in range(0, tot_lines):\n",
    "    if link < 10:\n",
    "        stringend = str(soup.find_all('a')[link])\n",
    "        print(link, \"|\", stringend)           # print the (first 10) detected rows in url\n",
    "    else:\n",
    "        print(\"...\")\n",
    "        stringend = str(soup.find_all('a')[tot_lines-1])\n",
    "        print(tot_lines-1, \"|\", stringend)\n",
    "        break\n",
    "\n",
    "img_in = 5                                    # download from the image 5...\n",
    "img_end = 10                                  # ...to image 10\n",
    "path = \"/Users/liberato/Desktop/304folder/\"   # path on your local machine (to save the images)"
   ]
  },
  {
   "cell_type": "markdown",
   "id": "1e41e905",
   "metadata": {},
   "source": [
    "Select the string of interest by changing the value of *string_i* and *string_f* (e.g., string_i, string_f = 9, 36):"
   ]
  },
  {
   "cell_type": "code",
   "execution_count": 24,
   "id": "c701ba24",
   "metadata": {},
   "outputs": [
    {
     "name": "stdout",
     "output_type": "stream",
     "text": [
      "20220325_000545_304eu_R.png\n"
     ]
    }
   ],
   "source": [
    "string_i, string_f = 9, 36\n",
    "\n",
    "stringend = str(soup.find_all('a')[img_in])\n",
    "stringend_roi = stringend[string_i:string_f]\n",
    "print(stringend_roi)  # check if the selected string is correct"
   ]
  },
  {
   "cell_type": "markdown",
   "id": "dcf966b3",
   "metadata": {},
   "source": [
    "Download all the images in the selected range [img_in, img_end):"
   ]
  },
  {
   "cell_type": "code",
   "execution_count": 23,
   "id": "8cbb9d7c",
   "metadata": {},
   "outputs": [
    {
     "name": "stdout",
     "output_type": "stream",
     "text": [
      "---\n",
      "1/5 (img 5) - 20220325_000545_304eu_R.png\n",
      "2/5 (img 6) - 20220325_000545_304eu_R.png\n",
      "3/5 (img 7) - 20220325_000545_304eu_R.png\n",
      "4/5 (img 8) - 20220325_000545_304eu_R.png\n",
      "5/5 (img 9) - 20220325_000545_304eu_R.png\n",
      "--- END\n"
     ]
    }
   ],
   "source": [
    "print(\"---\")\n",
    "for link in range(img_in, img_end):\n",
    "    stringend = str(soup.find_all('a')[link])\n",
    "    print(\"{0}/{1} (img {2}) - {3}\".format(link-img_in+1, img_end-img_in, link, stringend_roi))\n",
    "    img_url = url + stringend_roi\n",
    "    response = requests.get(img_url)\n",
    "    if response.status_code:\n",
    "        fp = open(path + stringend_roi, 'wb')\n",
    "        fp.write(response.content)\n",
    "        fp.close()\n",
    "print(\"--- END\")"
   ]
  }
 ],
 "metadata": {
  "kernelspec": {
   "display_name": "Python 3 (ipykernel)",
   "language": "python",
   "name": "python3"
  },
  "language_info": {
   "codemirror_mode": {
    "name": "ipython",
    "version": 3
   },
   "file_extension": ".py",
   "mimetype": "text/x-python",
   "name": "python",
   "nbconvert_exporter": "python",
   "pygments_lexer": "ipython3",
   "version": "3.9.12"
  }
 },
 "nbformat": 4,
 "nbformat_minor": 5
}
